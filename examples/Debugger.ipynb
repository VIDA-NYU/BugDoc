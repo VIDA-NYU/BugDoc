{
 "cells": [
  {
   "cell_type": "markdown",
   "metadata": {},
   "source": [
    "# Getting Started"
   ]
  },
  {
   "cell_type": "markdown",
   "metadata": {},
   "source": [
    "## Parameter space definition"
   ]
  },
  {
   "cell_type": "code",
   "execution_count": 1,
   "metadata": {
    "collapsed": true
   },
   "outputs": [],
   "source": [
    "filename = 'dataflow_pipeline.json'\n",
    "parameter_space = {\n",
    "    'operator1_script': [\n",
    "        '/data/scripts/operator1/script1.py',\n",
    "        '/data/scripts/operator1/script2.py',\n",
    "        '/data/scripts/operator1/script3.py',\n",
    "        '/data/scripts/operator1/script4.py',\n",
    "        '/data/scripts/operator1/script5.py',\n",
    "        '/data/scripts/operator1/script6.py',\n",
    "        '/data/scripts/operator1/script7.py',\n",
    "        '/data/scripts/operator1/script8.py',\n",
    "        '/data/scripts/operator1/script9.py',\n",
    "    ],\n",
    "    'read_path':[\n",
    "        '/tmp/inputs_20200527.csv',\n",
    "        '/tmp/inputs_20200528.csv',\n",
    "        '/tmp/inputs_20200529.csv',\n",
    "        '/tmp/inputs_20200530.csv',\n",
    "        '/tmp/inputs_20200531.csv',\n",
    "    ],\n",
    "    'read_mode':['once','repeat'],\n",
    "    'write_mode':['append','concat', 'replace'],\n",
    "    'operator2_script':[\n",
    "        '/data/scripts/operator2/aggregation.py',\n",
    "        '/data/scripts/operator2/average.py',\n",
    "        '/data/scripts/operator2/reduce.py',\n",
    "    ],\n",
    "    'threshold':[0.1,0.5],\n",
    "    'folds':[2,5,10]\n",
    "}"
   ]
  },
  {
   "cell_type": "markdown",
   "metadata": {},
   "source": [
    "## Choosing and running an algorithm"
   ]
  },
  {
   "cell_type": "code",
   "execution_count": 2,
   "metadata": {
    "collapsed": true
   },
   "outputs": [],
   "source": [
    "from bugdoc.algos.stacked_shortcut import AutoDebug as StackedShortcut\n",
    "debugger = StackedShortcut()\n",
    "result = debugger.run(filename, parameter_space)\n"
   ]
  },
  {
   "cell_type": "markdown",
   "metadata": {},
   "source": [
    "## Displaying root causes"
   ]
  },
  {
   "cell_type": "code",
   "execution_count": 3,
   "metadata": {},
   "outputs": [
    {
     "name": "stdout",
     "output_type": "stream",
     "text": [
      "Root Cause: \n",
      "operator1_script = /data/scripts/operator1/script2.py\n"
     ]
    }
   ],
   "source": [
    "root, _ , _ = result\n",
    "parameters = list(parameter_space.keys())\n",
    "print('Root Cause: \\n%s'% (\n",
    "    ' OR '.join([\n",
    "        ' AND '.join([parameters[pair[0]]+' = '+pair[1] for pair in r]\n",
    "                    )\n",
    "        for r in root ])))"
   ]
  },
  {
   "cell_type": "code",
   "execution_count": null,
   "metadata": {
    "collapsed": true
   },
   "outputs": [],
   "source": []
  }
 ],
 "metadata": {
  "kernelspec": {
   "display_name": "Python 3",
   "language": "python",
   "name": "python3"
  },
  "language_info": {
   "codemirror_mode": {
    "name": "ipython",
    "version": 3
   },
   "file_extension": ".py",
   "mimetype": "text/x-python",
   "name": "python",
   "nbconvert_exporter": "python",
   "pygments_lexer": "ipython3",
   "version": "3.6.10"
  }
 },
 "nbformat": 4,
 "nbformat_minor": 2
}
