{
 "cells": [
  {
   "cell_type": "markdown",
   "id": "subtle-double",
   "metadata": {},
   "source": [
    "# Integrating a production system with BugDoc\n",
    "\n",
    "For BugDoc to work, every run of a particular configuration $CP_i$ should give the same success/failure result. That's our definition of determinism. Note that non-determinism can arise either through inputs controlled by random processes (e.g. random number generators) or through side effects. For example, if a database $D$ is the input to a computational pipeline and another pipeline or external process can change $D$, then running some instance $CP_i$ at one time may yield a different result than running $CP_i$ at another time, because D might have changed in between.\n",
    "\n",
    "In order to link BugDoc with a working production system but without interfering with that production system, we need to perform several steps. We outline them below along with a running example.\n",
    "\n",
    "\n",
    "## Creating a sandbox \n",
    "\n",
    "\n",
    "To achieve determinism for a pipeline configuration $CP_i$, we would had to snapshot the state of $D$ used as the input to $CP_i$. $CP_i$ should then run on that snapshot of $D$. We implemented snapshots by running each pipeline instance in a sandbox with independent file systems. The snapshots are parameters ($D$ in this example) that BugDoc can manipulate.\n"
   ]
  },
  {
   "cell_type": "markdown",
   "id": "bigger-joseph",
   "metadata": {},
   "source": [
    "## Evaluating the pipeline\n",
    "\n",
    "The pipeline needs to be rebuilt in the sandbox with an evaluation function attached\n",
    "on the output to say whether a given execution through the pipeline\n",
    "succeeded or failed.\n"
   ]
  },
  {
   "cell_type": "markdown",
   "id": "quick-roots",
   "metadata": {},
   "source": [
    "## Execution History\n",
    "We keep track of the provenance of each execution -- parameter settings,\n",
    "data inputs, data outputs, and result of the evaluation function."
   ]
  },
  {
   "cell_type": "code",
   "execution_count": 1,
   "id": "noticed-mexico",
   "metadata": {},
   "outputs": [],
   "source": [
    "from bugdoc.utils.utils import record_pipeline_run"
   ]
  },
  {
   "cell_type": "markdown",
   "id": "direct-vertex",
   "metadata": {},
   "source": [
    "##  Satisfying BugDoc's API\n",
    "the sandbox must receive a messag from BugDoc, run the pipeline and send\n",
    "back success or failure"
   ]
  },
  {
   "cell_type": "code",
   "execution_count": null,
   "id": "alien-calculation",
   "metadata": {},
   "outputs": [],
   "source": [
    "\"\"\"\n",
    "Worker script\n",
    "===========================\n",
    "\n",
    "This script responsible for receiving pipeline configurations from BugDoc's algorithms.\n",
    "It runs and evaluates the pipeline instances, and returns the result to BugDoc.\n",
    "\"\"\"\n",
    "\n",
    "# %%\n",
    "# Importing necessary packages.\n",
    "# ------------------------\n",
    "# We load utility packages to open communication and store pipeline instances.\n",
    "\n",
    "import ast\n",
    "import sys\n",
    "import traceback\n",
    "import zmq\n",
    "from bugdoc.utils.utils import record_pipeline_run\n",
    "\n",
    "# %%\n",
    "# Importing pipeline engine API.\n",
    "# ------------------------\n",
    "# Here we load the functions that execute and evaluate a pipeline instance.\n",
    "from my_api_example import execute_pipeline, evaluate_pipeline_output\n",
    "\n",
    "\n",
    "host = 'localhost'\n",
    "receive = '5557'\n",
    "send = '5558'\n",
    "\n",
    "context = zmq.Context()\n",
    "\n",
    "# Socket to receive messages on\n",
    "receiver = context.socket(zmq.PULL)\n",
    "receiver.connect(\"tcp://{0}:{1}\".format(host, receive))\n",
    "\n",
    "# Socket to send messages to\n",
    "sender = context.socket(zmq.PUSH)\n",
    "sender.connect(\"tcp://{0}:{1}\".format(host, send))\n",
    "\n",
    "\n",
    "# Process tasks forever\n",
    "while True:\n",
    "    # Receive message from BugDoc\n",
    "    data = receiver.recv_string()\n",
    "    fields = data.split(\"|\")\n",
    "    filename = fields[0]\n",
    "    values = ast.literal_eval(fields[1])\n",
    "    parameters = ast.literal_eval(fields[2])\n",
    "    try:\n",
    "        # Recontruct pipeline configuration\n",
    "        configuration = {\n",
    "            parameters[i]: values[i]\n",
    "            for i in range(len(parameters))\n",
    "        }\n",
    "        # Execute pipeline\n",
    "        output = execute_pipeline(filename, configuration)\n",
    "        # Evaluate pipeline\n",
    "        result = evaluate_pipeline_output(output)\n",
    "    except:\n",
    "        traceback.print_exc(file=sys.stdout)\n",
    "        # Assign failure in case of crash\n",
    "        result = False\n",
    "    # Record provenance\n",
    "    record_pipeline_run(filename, values, parameters, result)\n",
    "    values.append(result)\n",
    "    # Send result back to BugDoc\n",
    "    sender.send_string(str(values))\n"
   ]
  }
 ],
 "metadata": {
  "kernelspec": {
   "display_name": "Python 3",
   "language": "python",
   "name": "python3"
  },
  "language_info": {
   "codemirror_mode": {
    "name": "ipython",
    "version": 3
   },
   "file_extension": ".py",
   "mimetype": "text/x-python",
   "name": "python",
   "nbconvert_exporter": "python",
   "pygments_lexer": "ipython3",
   "version": "3.6.10"
  }
 },
 "nbformat": 4,
 "nbformat_minor": 5
}
